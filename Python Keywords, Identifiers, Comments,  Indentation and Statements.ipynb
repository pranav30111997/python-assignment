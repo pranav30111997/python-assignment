{
 "cells": [
  {
   "cell_type": "markdown",
   "id": "c2a0b08b-cffc-43bf-9c0d-3a8410eeded2",
   "metadata": {},
   "source": [
    "Explain the significance of Python keywords and provide examples of five keywords"
   ]
  },
  {
   "cell_type": "markdown",
   "id": "19097da0-c308-4663-bf10-841be74ff352",
   "metadata": {},
   "source": [
    "Python keywords are pre-defined words that have some specific meanings and purpose within the Python. We cannot use these keywords as variables name. given below the examples of 5 significant keywords in python"
   ]
  },
  {
   "cell_type": "markdown",
   "id": "1c9a9702-c42c-4fcf-bc5e-6acf3fbf694b",
   "metadata": {},
   "source": [
    "1>>>>  if else elif <<<<<\n",
    "\n",
    "These keywords are conditional keywords which allow the specific block of code to execute if some condition holds which we apply with the keyword holds true.\n",
    "\n",
    "if block    >>>>> if some conditions hold true this block execute\n",
    "elif block  >>>>> if above if condition not holds true but condition in elif block hold true then this block will execute\n",
    "else        >>>>> if none of the above confitions hold true then this block will execute"
   ]
  },
  {
   "cell_type": "code",
   "execution_count": 1,
   "id": "af7f76c5-1811-40b1-a945-98176b2c6887",
   "metadata": {},
   "outputs": [
    {
     "name": "stdout",
     "output_type": "stream",
     "text": [
      "Hurray!! You are elegible to watch this film. keep your aadhar card ready\n"
     ]
    }
   ],
   "source": [
    "# EXAMPLE\n",
    "\n",
    "age=67\n",
    "if 0<age<18:\n",
    "    print('Not Elegible to watch this Movie')\n",
    "elif age<=0 or age >= 100:\n",
    "    print('Invalid Input')\n",
    "else:\n",
    "    print('Hurray!! You are elegible to watch this film. keep your aadhar card ready')"
   ]
  },
  {
   "cell_type": "markdown",
   "id": "82317bec-5647-4da8-97bb-65debef83d63",
   "metadata": {},
   "source": [
    "2) >>>>>>>> while<<<<<<<<\n",
    "This keyword is used to create a loop that executes a block of code as long as a specified condition becomes True."
   ]
  },
  {
   "cell_type": "code",
   "execution_count": 2,
   "id": "31d107e5-9a80-407c-8476-c4101a1e5ed7",
   "metadata": {},
   "outputs": [
    {
     "name": "stdout",
     "output_type": "stream",
     "text": [
      "5050\n"
     ]
    }
   ],
   "source": [
    "#Example (sum of first 100 numbers)\n",
    "add=0\n",
    "output=0\n",
    "count=0\n",
    "while count < 100:\n",
    "    add += 1\n",
    "    output += add\n",
    "    count += 1\n",
    "print(output)"
   ]
  },
  {
   "cell_type": "markdown",
   "id": "a29ce8b6-79e6-437b-9652-8c06d50364f3",
   "metadata": {},
   "source": [
    "3)>>>>>>>for<<<<<<<\n",
    "This keyword is used to iterate over a sequence in the given range or number of elements in list or number of characters in string"
   ]
  },
  {
   "cell_type": "code",
   "execution_count": 3,
   "id": "5187ed48-dedf-4034-a2c5-40e1467090fb",
   "metadata": {},
   "outputs": [
    {
     "name": "stdout",
     "output_type": "stream",
     "text": [
      "2\n",
      "4\n",
      "6\n",
      "8\n",
      "10\n",
      "12\n",
      "14\n",
      "16\n",
      "18\n",
      "20\n",
      "mango\n",
      "kiwi\n",
      "apple\n"
     ]
    }
   ],
   "source": [
    "#example (print multiplication table of 2)\n",
    "\n",
    "for i in range (1,11):\n",
    "    print(2*i)\n",
    "    \n",
    "# example 2\n",
    "\n",
    "fruit = [\"mango\", \"kiwi\", \"apple\"]\n",
    "\n",
    "for i in fruit:\n",
    "    print(i)"
   ]
  },
  {
   "cell_type": "markdown",
   "id": "9e825e8d-cd30-48f0-99c8-11da3b50a196",
   "metadata": {},
   "source": [
    "4) >>>>>>>>>print<<<<<<<<<<\n",
    "\n",
    "it will print the output after execution of the code"
   ]
  },
  {
   "cell_type": "code",
   "execution_count": 4,
   "id": "f949fb60-5695-4d2c-b7e2-fb30eda6d234",
   "metadata": {},
   "outputs": [
    {
     "name": "stdout",
     "output_type": "stream",
     "text": [
      "apple\n",
      "91125\n"
     ]
    }
   ],
   "source": [
    "#example (print the assigned value)\n",
    "\n",
    "a= 'apple'\n",
    "\n",
    "print(a)\n",
    "\n",
    "# example 2 (print the value after given arithmetic operation)\n",
    "\n",
    "a=45\n",
    "b=3\n",
    "output= a**b\n",
    "print(output)"
   ]
  },
  {
   "cell_type": "markdown",
   "id": "61d61ace-52b8-490b-823a-2635ef364708",
   "metadata": {},
   "source": [
    "5)>>>>>>>type<<<<<<<\n",
    "\n",
    "it will print the type of value wheather it is int,bool,complex,float,string"
   ]
  },
  {
   "cell_type": "code",
   "execution_count": 6,
   "id": "74109091-cb34-4889-98bb-05925124f963",
   "metadata": {},
   "outputs": [
    {
     "name": "stdout",
     "output_type": "stream",
     "text": [
      "<class 'int'>\n",
      "<class 'str'>\n",
      "<class 'bool'>\n",
      "<class 'complex'>\n",
      "<class 'float'>\n"
     ]
    }
   ],
   "source": [
    "#example\n",
    "\n",
    "a= 12\n",
    "b='India'\n",
    "c= True\n",
    "d= 2+6j\n",
    "e= 858.98\n",
    "print(type(a))\n",
    "print(type(b))\n",
    "print(type(c))\n",
    "print(type(d))\n",
    "print(type(e))"
   ]
  },
  {
   "cell_type": "markdown",
   "id": "b88e8818-1637-4eb4-a97b-9067701d9324",
   "metadata": {},
   "source": [
    "Describe the rules for defining identifiers in Python and provide an example"
   ]
  },
  {
   "cell_type": "markdown",
   "id": "dafd9396-9a4d-46c5-9183-22cfc7ae388f",
   "metadata": {},
   "source": [
    "Identifiers can consist of alphabets, digits , and underscore but the identifier cannot start with a digit.\n",
    "\n",
    "Python is case-sensitive for example if any variable a=20 it dosen't mean that A is also equals 20, both are different variables.\n",
    "\n",
    "Identifiers cannot be a reserved keyword. Python has a list of reserved words that have predefined meanings and cannot be used as identifiers. For example, if, else, for, while, print etc.\n",
    "\n",
    "Special characters like #, $, %, etc are not allowed within identifiers.\n",
    "\n",
    "There is no limitation on the length of the identifier in Python, but it's good to keep them short and meaningful."
   ]
  },
  {
   "cell_type": "code",
   "execution_count": 7,
   "id": "8c29fb44-0feb-4038-8d4b-3994d04db647",
   "metadata": {},
   "outputs": [
    {
     "ename": "SyntaxError",
     "evalue": "invalid decimal literal (1256164305.py, line 12)",
     "output_type": "error",
     "traceback": [
      "\u001b[0;36m  Cell \u001b[0;32mIn[7], line 12\u001b[0;36m\u001b[0m\n\u001b[0;31m    2number = 5                # Cannot start with a digit\u001b[0m\n\u001b[0m    ^\u001b[0m\n\u001b[0;31mSyntaxError\u001b[0m\u001b[0;31m:\u001b[0m invalid decimal literal\n"
     ]
    }
   ],
   "source": [
    "# example\n",
    "\n",
    "# Valid identifiers\n",
    "number = 42\n",
    "number1 = \"Hello India\"\n",
    "number_1 = True\n",
    "Output = None\n",
    "_integers = [1, 2, 3]\n",
    "\n",
    "# invalid identifiers\n",
    "\n",
    "2number = 5                # Cannot start with a digit\n",
    "number-variable = 'India'  # Contains a - sign\n",
    "if = 10"
   ]
  },
  {
   "cell_type": "markdown",
   "id": "552eb486-05d3-4beb-a0f1-3b236ebec5b9",
   "metadata": {},
   "source": [
    "What are comments in Python, and why are they useful ? Provide an example."
   ]
  },
  {
   "cell_type": "markdown",
   "id": "e9dcecd5-6166-4f39-8ecb-d404f841776f",
   "metadata": {},
   "source": [
    "Comments are text within the code that are ignored by the Python during execution. They are used to explain the purpose of the code or make notes for future reference etc. Comments are crucial for enhancing code readability and maintainability, as they help other person to understand the logic behind the cod, any text writtten after # is called comment"
   ]
  },
  {
   "cell_type": "code",
   "execution_count": null,
   "id": "cc93f09d-878f-4c99-bacd-28e1552894d2",
   "metadata": {},
   "outputs": [],
   "source": [
    "# THIS IS AN EXAMPLE\n",
    "# a=2+3\n",
    "# print (a) this is also an example"
   ]
  },
  {
   "cell_type": "markdown",
   "id": "b9618ed3-b835-4419-80d7-343cdbb95c14",
   "metadata": {},
   "source": [
    "Why is proper indentation important in Python"
   ]
  },
  {
   "cell_type": "markdown",
   "id": "50d38252-e4b9-405a-8e0d-ffe507c8ddf7",
   "metadata": {},
   "source": [
    "Proper indentation is crucial in Python because it is used to define the structure and scope of code blocks. it indicates which statements are grouped together into blocks of code."
   ]
  },
  {
   "cell_type": "markdown",
   "id": "d73f404d-9015-4407-ae51-07b2fef15f49",
   "metadata": {},
   "source": [
    "What happens if indentation is incorrect in Python"
   ]
  },
  {
   "cell_type": "code",
   "execution_count": null,
   "id": "c6ec8405-da4b-4375-b270-567ec042d65d",
   "metadata": {},
   "outputs": [],
   "source": [
    "It will throw a Syntax Error. "
   ]
  },
  {
   "cell_type": "markdown",
   "id": "4a9883e5-b093-44df-8c49-d8f92eea9498",
   "metadata": {},
   "source": [
    "Differentiate between expression and statement in Python with examples"
   ]
  },
  {
   "cell_type": "markdown",
   "id": "8e18f949-f953-4d2d-95d3-d578a1dc5905",
   "metadata": {},
   "source": [
    "Expression:\n",
    "\n",
    "An expression is a combination of values, variables, operators, and function calls that yields a result.\n",
    "\n",
    "Expressions can be evaluated to produce a value.\n",
    "\n",
    "They can appear anywhere in the code where Python expects a value, such as in assignments,or within other expressions.\n",
    "\n",
    "Expressions can include arithmetic operations, comparisons, logical operations etc.\n",
    "\n",
    "Statement:\n",
    "\n",
    "A statement is a complete instruction that performs some action. It doesn't necessarily return a value.\n",
    "\n",
    "Statements represent the \"doing\" part of the code; they perform tasks, such as assignment, looping etc.\n",
    "\n",
    "Statements typically end with a newline character (or a semicolon in some cases).\n",
    "\n",
    "Python executes statements sequentially, one after another, unless control flow constructs like loops or conditionals."
   ]
  },
  {
   "cell_type": "code",
   "execution_count": 17,
   "id": "c389f80b-f038-453e-9b38-ffe7eed52b0f",
   "metadata": {},
   "outputs": [
    {
     "name": "stdout",
     "output_type": "stream",
     "text": [
      "x is less than or equal to 67\n",
      "0\n",
      "1\n",
      "2\n",
      "3\n",
      "4\n",
      "5\n",
      "6\n",
      "7\n",
      "8\n",
      "9\n",
      "10\n",
      "11\n",
      "12\n",
      "13\n",
      "14\n",
      "15\n",
      "16\n",
      "17\n",
      "18\n",
      "19\n",
      "20\n",
      "21\n",
      "22\n",
      "23\n",
      "24\n",
      "25\n",
      "26\n",
      "27\n",
      "28\n",
      "29\n",
      "30\n",
      "31\n",
      "32\n",
      "33\n",
      "34\n",
      "35\n",
      "36\n",
      "37\n",
      "38\n",
      "39\n",
      "40\n",
      "41\n",
      "42\n",
      "43\n",
      "44\n",
      "45\n",
      "46\n",
      "47\n",
      "48\n",
      "49\n",
      "50\n",
      "51\n",
      "52\n",
      "53\n",
      "54\n",
      "55\n",
      "56\n",
      "57\n",
      "58\n",
      "59\n",
      "60\n",
      "61\n",
      "62\n",
      "63\n",
      "64\n",
      "65\n",
      "66\n",
      "67\n",
      "68\n",
      "69\n",
      "70\n",
      "71\n",
      "72\n",
      "73\n",
      "74\n",
      "75\n",
      "76\n",
      "77\n",
      "78\n",
      "79\n",
      "80\n",
      "81\n",
      "82\n",
      "83\n",
      "84\n",
      "85\n",
      "86\n",
      "87\n",
      "88\n",
      "89\n",
      "90\n",
      "91\n",
      "92\n",
      "93\n",
      "94\n",
      "95\n",
      "96\n",
      "97\n",
      "98\n",
      "99\n",
      "100\n"
     ]
    }
   ],
   "source": [
    "#example expression\n",
    "\n",
    "# Arithmetic expression\n",
    "result = 6 * (6 / 2)\n",
    "\n",
    "#expression of a function\n",
    "length = len(\"India\")\n",
    "\n",
    "# Comparison expression\n",
    "checkg = 10 > 5\n",
    "\n",
    "# List comprehension expression\n",
    "square = [x**2 for x in range(1, 6)]\n",
    "\n",
    "# example statement\n",
    "\n",
    "# Assignment statement\n",
    "x = 10\n",
    "\n",
    "# Conditional statement (if-else)\n",
    "if x > 67:\n",
    "    print(\"x is greater than 67\")\n",
    "else:\n",
    "    print(\"x is less than or equal to 67\")\n",
    "\n",
    "# Loop statement (while)\n",
    "count = 0\n",
    "while count < 101:\n",
    "    print(count)\n",
    "    count += 1"
   ]
  },
  {
   "cell_type": "code",
   "execution_count": null,
   "id": "bd006794-338a-47ee-a11b-9f113c9e2192",
   "metadata": {},
   "outputs": [],
   "source": []
  }
 ],
 "metadata": {
  "kernelspec": {
   "display_name": "Python 3 (ipykernel)",
   "language": "python",
   "name": "python3"
  },
  "language_info": {
   "codemirror_mode": {
    "name": "ipython",
    "version": 3
   },
   "file_extension": ".py",
   "mimetype": "text/x-python",
   "name": "python",
   "nbconvert_exporter": "python",
   "pygments_lexer": "ipython3",
   "version": "3.10.8"
  }
 },
 "nbformat": 4,
 "nbformat_minor": 5
}
