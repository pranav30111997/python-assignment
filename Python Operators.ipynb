{
 "cells": [
  {
   "cell_type": "markdown",
   "id": "413531c3-033d-4c69-8a95-4bd713f6af65",
   "metadata": {},
   "source": [
    "Calculate the sum, difference, product, and quotient of two numbers."
   ]
  },
  {
   "cell_type": "code",
   "execution_count": 2,
   "id": "d4d9b9f6-12db-48ba-98db-7ce662adf6e7",
   "metadata": {},
   "outputs": [
    {
     "name": "stdout",
     "output_type": "stream",
     "text": [
      "58\n",
      "54\n",
      "112\n",
      "28.0\n"
     ]
    }
   ],
   "source": [
    "num1 = 56\n",
    "num2 = 2\n",
    "# Sum of two numbers\n",
    "add = num1+num2\n",
    "print(add)\n",
    "# Difference of two numbers\n",
    "diff= num1-num2\n",
    "print(diff)\n",
    "# product of two numbers\n",
    "prod= num1*num2\n",
    "print(prod)\n",
    "# quotient of two numbers\n",
    "quot= num1/num2\n",
    "print(quot)"
   ]
  },
  {
   "cell_type": "markdown",
   "id": "31fec774-c421-47b6-8268-9f74e41508c7",
   "metadata": {},
   "source": [
    "Perform various assignment operations on a variable"
   ]
  },
  {
   "cell_type": "code",
   "execution_count": 3,
   "id": "c50c521e-e90e-4feb-af8a-5c0d85cb64af",
   "metadata": {},
   "outputs": [
    {
     "name": "stdout",
     "output_type": "stream",
     "text": [
      "Hello India\n",
      "48\n",
      "65\n",
      "204\n",
      "15.333333333333334\n"
     ]
    }
   ],
   "source": [
    "# Assignment operator (Assignmet)\n",
    "var1 = 'Hello India'\n",
    "print(var1)\n",
    "\n",
    "# Assignment Operator (Addition Assignment)\n",
    "var2 = 46\n",
    "var2 += 2         # we also write it in different way like var2= var2 + 2\n",
    "print(var2)\n",
    "\n",
    "# Assignment Operator ( Substraction Assignment)\n",
    "var3 = 67\n",
    "var3 -= 2      \n",
    "print(var3)     # we will also write it as var3= var3 - 2\n",
    "\n",
    "# assignment Operator (Multiplication Assignment)\n",
    "var4 = 34\n",
    "var4 *= 6      \n",
    "print(var4)    # we will also write it as var4= var4 * 6\n",
    "\n",
    "# Assignment operator (Division Assignment)\n",
    "var5=46\n",
    "var5 /= 3\n",
    "print(var5) # also as var5= var5 / 3\n"
   ]
  },
  {
   "cell_type": "markdown",
   "id": "7dc190b1-8a54-457a-acad-bacf906ce450",
   "metadata": {},
   "source": [
    "Compare two numbers and print the results."
   ]
  },
  {
   "cell_type": "code",
   "execution_count": 4,
   "id": "afb40eb6-8fa2-4450-a406-e3229668c6a8",
   "metadata": {},
   "outputs": [
    {
     "name": "stdout",
     "output_type": "stream",
     "text": [
      "False\n",
      "True\n",
      "False\n",
      "False\n",
      "True\n",
      "True\n"
     ]
    }
   ],
   "source": [
    "num1=34\n",
    "num2=56\n",
    "#equals to\n",
    "print(num1==num2)\n",
    "# not equals to\n",
    "print(num1!=num2)\n",
    "# greater than\n",
    "print(num1>num2)\n",
    "# greater than equals two \n",
    "print(num1>=num2)\n",
    "# smaller than\n",
    "print(num1<num2)\n",
    "#smaller than equals to\n",
    "print(num1<=num2)"
   ]
  },
  {
   "cell_type": "markdown",
   "id": "ef29827c-e2ee-4210-aa46-d7e37b4f4a00",
   "metadata": {},
   "source": [
    " Check conditions using logical operators."
   ]
  },
  {
   "cell_type": "code",
   "execution_count": 5,
   "id": "442d4dac-6bd8-46e5-878e-552902377bdb",
   "metadata": {},
   "outputs": [
    {
     "name": "stdout",
     "output_type": "stream",
     "text": [
      "True\n",
      "False\n",
      "False\n",
      "False\n",
      "True\n",
      "True\n",
      "True\n",
      "False\n",
      "False\n",
      "True\n"
     ]
    }
   ],
   "source": [
    "# and \n",
    "print(True and True)\n",
    "print(True and False)\n",
    "print(False and True)\n",
    "print(False and False)\n",
    "#or\n",
    "print(True or True)\n",
    "print(True or False)\n",
    "print(False or True)\n",
    "print(False or False)\n",
    "#not\n",
    "print(not(True))\n",
    "print(not(False))"
   ]
  },
  {
   "cell_type": "markdown",
   "id": "0a26d233-fd68-4c0d-9565-5377c6ef53c1",
   "metadata": {},
   "source": [
    "Check the identity of variables"
   ]
  },
  {
   "cell_type": "code",
   "execution_count": 6,
   "id": "caabe817-826e-45b3-a80d-a872b1e4f392",
   "metadata": {},
   "outputs": [
    {
     "name": "stdout",
     "output_type": "stream",
     "text": [
      "<class 'str'>\n",
      "<class 'int'>\n",
      "<class 'float'>\n",
      "<class 'bool'>\n",
      "<class 'bool'>\n"
     ]
    }
   ],
   "source": [
    "#string\n",
    "var1 = \"Hello India\"\n",
    "print(type(var1))\n",
    "#integers\n",
    "var2 = 87\n",
    "print(type(var2))\n",
    "#float\n",
    "var3 = 987.76\n",
    "print(type(var3))\n",
    "#bool\n",
    "var4 = True\n",
    "var4_1= False\n",
    "print(type(var4))\n",
    "print(type(var4_1))"
   ]
  },
  {
   "cell_type": "markdown",
   "id": "f4fdd1b7-7e07-4a0a-a350-82d489877a4b",
   "metadata": {},
   "source": [
    "Perform bitwise operations on any two integers."
   ]
  },
  {
   "cell_type": "code",
   "execution_count": 7,
   "id": "ab56f37a-f45a-4c3a-b837-88e92a86378a",
   "metadata": {},
   "outputs": [
    {
     "name": "stdout",
     "output_type": "stream",
     "text": [
      "2\n",
      "46\n",
      "44\n",
      "-47\n",
      "-3\n",
      "11\n",
      "184\n"
     ]
    }
   ],
   "source": [
    "var1 = 46\n",
    "var2 = 2\n",
    "#and\n",
    "print(var1&var2)\n",
    "#or\n",
    "print(var1|var2)\n",
    "#xor\n",
    "print(var1^var2)\n",
    "#not\n",
    "print(~var1)\n",
    "print(~var2)\n",
    "#right shift\n",
    "print(var1>>var2)\n",
    "#left shift\n",
    "print(var1<<var2)"
   ]
  },
  {
   "cell_type": "markdown",
   "id": "b23861c6-af6c-4323-ae99-9f1469092b4c",
   "metadata": {},
   "source": [
    "Use unary operators to change the sign of a number."
   ]
  },
  {
   "cell_type": "code",
   "execution_count": 8,
   "id": "43754d31-a5ad-48ba-98fc-39acf0e0e4dc",
   "metadata": {},
   "outputs": [
    {
     "name": "stdout",
     "output_type": "stream",
     "text": [
      "-67\n"
     ]
    }
   ],
   "source": [
    "num = 67\n",
    "print(-num)"
   ]
  },
  {
   "cell_type": "code",
   "execution_count": null,
   "id": "4a4cae56-dc8d-49c4-9349-c81b0483b6ad",
   "metadata": {},
   "outputs": [],
   "source": [
    "Use the ternary operator to assign values based on conditions"
   ]
  },
  {
   "cell_type": "code",
   "execution_count": 10,
   "id": "a03d7fbf-1ef2-4813-8d36-188c6be95ba6",
   "metadata": {},
   "outputs": [
    {
     "name": "stdout",
     "output_type": "stream",
     "text": [
      "Even\n",
      "True\n"
     ]
    }
   ],
   "source": [
    "# if else (check if odd or even)\n",
    "num = 34\n",
    "result = None\n",
    "if (num%2==0):\n",
    "    result = 'Even'\n",
    "else:\n",
    "    result = 'Odd'\n",
    "print(result)   \n",
    "\n",
    "# if else (list) (check if first element of list equals last element)\n",
    "list1=[1,4,5,6,1]\n",
    "output='None'\n",
    "if list1[0]==list1[-1]:\n",
    "    output=True\n",
    "else:\n",
    "    output=False\n",
    "print(output)"
   ]
  },
  {
   "cell_type": "code",
   "execution_count": null,
   "id": "70e0272a-25ec-48fc-8ac9-90d472ae3db4",
   "metadata": {},
   "outputs": [],
   "source": []
  }
 ],
 "metadata": {
  "kernelspec": {
   "display_name": "Python 3 (ipykernel)",
   "language": "python",
   "name": "python3"
  },
  "language_info": {
   "codemirror_mode": {
    "name": "ipython",
    "version": 3
   },
   "file_extension": ".py",
   "mimetype": "text/x-python",
   "name": "python",
   "nbconvert_exporter": "python",
   "pygments_lexer": "ipython3",
   "version": "3.10.8"
  }
 },
 "nbformat": 4,
 "nbformat_minor": 5
}
