{
 "cells": [
  {
   "cell_type": "markdown",
   "id": "d813622a-53a5-4542-9af6-f8d5f8741e68",
   "metadata": {
    "tags": []
   },
   "source": [
    "Convert an integer to a floating-point number"
   ]
  },
  {
   "cell_type": "code",
   "execution_count": 1,
   "id": "d5fa5318-9f5b-4c85-a005-0f4897e26d86",
   "metadata": {},
   "outputs": [
    {
     "name": "stdout",
     "output_type": "stream",
     "text": [
      "48.0\n"
     ]
    }
   ],
   "source": [
    "value1=48                     # value1 is a variable containing an integer.\n",
    "valuefloat=float(value1)      # now variable value1 which is an integer is converted into float.\n",
    "print(valuefloat)            # this line of code will print the desired output "
   ]
  },
  {
   "cell_type": "markdown",
   "id": "7aa3b8df-c866-4fea-bfb2-1c63380af939",
   "metadata": {},
   "source": [
    "Convert a float to an integer."
   ]
  },
  {
   "cell_type": "code",
   "execution_count": 2,
   "id": "18816a18-fa33-4804-beba-a0a23d6f614c",
   "metadata": {},
   "outputs": [
    {
     "name": "stdout",
     "output_type": "stream",
     "text": [
      "56\n"
     ]
    }
   ],
   "source": [
    "value2=56.0           # value2 is a variable containing a float value.\n",
    "valueint=int(value2)  # now variable value2 which is a float is converted into integer.\n",
    "print(valueint)      # this line of code will print the desired output "
   ]
  },
  {
   "cell_type": "markdown",
   "id": "7f5e8c1f-1aaa-481d-8b8d-1439f052c694",
   "metadata": {},
   "source": [
    "Convert an integer to a string."
   ]
  },
  {
   "cell_type": "code",
   "execution_count": 3,
   "id": "66b39732-690b-422c-9afc-ce2275a28dc6",
   "metadata": {},
   "outputs": [
    {
     "name": "stdout",
     "output_type": "stream",
     "text": [
      "250\n"
     ]
    }
   ],
   "source": [
    "value3=250               #  value3 is a variable containing an integer.\n",
    "valuestr=str(value3)     #  now variable value3 which is a integer type is converted into a string.\n",
    "print(valuestr)         #  this line of code will print the desired output "
   ]
  },
  {
   "cell_type": "markdown",
   "id": "d3871299-65b6-4596-8fd3-5304cbd72687",
   "metadata": {},
   "source": [
    "Convert a list to a tuple."
   ]
  },
  {
   "cell_type": "code",
   "execution_count": 4,
   "id": "e801f83b-66e2-4c0d-8943-f2eb8da8a101",
   "metadata": {},
   "outputs": [
    {
     "name": "stdout",
     "output_type": "stream",
     "text": [
      "(1, 2, 3, 4, 5)\n"
     ]
    }
   ],
   "source": [
    "list1 = [1,2,3,4,5]   # list1 is a variable containing a list\n",
    "output= tuple(list1)  # now list1 is converted into tuple\n",
    "print(output)         # this line will print the desired output "
   ]
  },
  {
   "cell_type": "markdown",
   "id": "e2bd8b2b-159e-48d6-ad44-61cb282def23",
   "metadata": {},
   "source": [
    "Convert a tuple to a list."
   ]
  },
  {
   "cell_type": "code",
   "execution_count": 5,
   "id": "b6eeb794-f645-4ee2-bb46-c8f2e4c3bc1e",
   "metadata": {},
   "outputs": [
    {
     "name": "stdout",
     "output_type": "stream",
     "text": [
      "[2, 4, 6]\n"
     ]
    }
   ],
   "source": [
    "tuple1 = (2,4,6)       # tuple1 is a variable containing a tuple \n",
    "output = list(tuple1)  # now tuple is converted into list\n",
    "print(output)          # my desired output is [2,4,6]"
   ]
  },
  {
   "cell_type": "markdown",
   "id": "4fd5d155-1c22-4ee5-9eba-9e60483a792a",
   "metadata": {},
   "source": [
    "Convert a decimal number to binary."
   ]
  },
  {
   "cell_type": "code",
   "execution_count": 6,
   "id": "a8e8cef6-18f9-4d89-b73b-27d1d6567fe7",
   "metadata": {},
   "outputs": [
    {
     "name": "stdout",
     "output_type": "stream",
     "text": [
      "0b1010001101\n"
     ]
    }
   ],
   "source": [
    "number = 653           # number is a variable containing a number\n",
    "output = bin(number)   # now number is converted into binary \n",
    "print(output)          "
   ]
  },
  {
   "cell_type": "markdown",
   "id": "649fbd97-2bd5-4096-becf-3ad56e36fa9d",
   "metadata": {},
   "source": [
    "Convert a non-zero number to boolean."
   ]
  },
  {
   "cell_type": "code",
   "execution_count": 7,
   "id": "61025118-3d16-409e-ab37-21cda6b9be3b",
   "metadata": {},
   "outputs": [
    {
     "name": "stdout",
     "output_type": "stream",
     "text": [
      "True\n"
     ]
    }
   ],
   "source": [
    "num = -12           # num is a variable containing a non zero number\n",
    "output = bool(num)  # now the number is converted into boolean \n",
    "print(output)"
   ]
  },
  {
   "cell_type": "code",
   "execution_count": null,
   "id": "b396ce7b-6ef9-40cc-9e44-f8535c62d8de",
   "metadata": {},
   "outputs": [],
   "source": []
  }
 ],
 "metadata": {
  "kernelspec": {
   "display_name": "Python 3 (ipykernel)",
   "language": "python",
   "name": "python3"
  },
  "language_info": {
   "codemirror_mode": {
    "name": "ipython",
    "version": 3
   },
   "file_extension": ".py",
   "mimetype": "text/x-python",
   "name": "python",
   "nbconvert_exporter": "python",
   "pygments_lexer": "ipython3",
   "version": "3.10.8"
  }
 },
 "nbformat": 4,
 "nbformat_minor": 5
}
